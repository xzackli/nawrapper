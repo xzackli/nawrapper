{
 "cells": [
  {
   "cell_type": "code",
   "execution_count": null,
   "metadata": {},
   "outputs": [],
   "source": [
    "def calc_window(shape):\n",
    "    \"\"\"from enlib import enmap\"\"\"\n",
    "    \"\"\"Compute fourier-space window function. Like the other fourier-based\n",
    "    functions in this module, equi-spaced pixels are assumed. Since the\n",
    "    window function is separable, it is returned as an x and y part,\n",
    "    such that window = wy[:,None]*wx[None,:].\"\"\"\n",
    "    wy = np.sinc(np.fft.fftfreq(shape[-2]))\n",
    "    wx = np.sinc(np.fft.fftfreq(shape[-1]))\n",
    "    return wy, wx\n",
    "\n",
    "def filter_map(m, apo, kx, ky, legacy_steve=True, unpixwin=True):\n",
    "    k_r0 = enmap.fft(m)\n",
    "    ly, lx = enmap.lmap(k_r0.shape, k_r0.wcs)\n",
    "    kx_bool = (np.abs(lx) <= kx)\n",
    "    ky_bool = (np.abs(ly) <= ky)\n",
    "    \n",
    "    if unpixwin:\n",
    "        wy, wx = calc_window(k_r0.shape)\n",
    "        k_r0 /= wy[:,None]\n",
    "        k_r0 /= wx[None,:]\n",
    "    \n",
    "    if legacy_steve:\n",
    "        cut_x_k = np.unique(lx[(np.abs(lx) <= kx )])\n",
    "        cut_y_k = np.unique(ly[(np.abs(ly) <= ky )])\n",
    "        # do not cut the most positive wavenumber\n",
    "        print((cut_x_k[-1]))\n",
    "        print((cut_y_k[-1]))\n",
    "        kx_bool = kx_bool & ((lx) < (cut_x_k[-1]))\n",
    "        ky_bool = ky_bool & ((ly) < (cut_y_k[-1]))\n",
    "    \n",
    "    k_r0[kx_bool] = 0.0\n",
    "    k_r0[ky_bool] = 0.0\n",
    "    r0_diy = enmap.ifft(k_r0)\n",
    "    \n",
    "    special_apo = apo.copy()\n",
    "    special_apo[ np.isclose(special_apo, 0.0)] = np.inf\n",
    "    \n",
    "    result = r0_diy.real\n",
    "    result[1:,1:] = result[:-1,:-1] / special_apo[1:, 1:]\n",
    "    return (result) / special_apo\n",
    "zack_maps = [\n",
    "    filter_map(m * apo, apo, kx, ky)\n",
    "    for m in boxed_maps_f]"
   ]
  },
  {
   "cell_type": "code",
   "execution_count": null,
   "metadata": {},
   "outputs": [],
   "source": [
    "xmin, xmax = 3000, 3000+50\n",
    "yval = 700\n",
    "\n",
    "fig, axes = plt.subplots(1, 2, figsize=(10,4))\n",
    "axes[0].plot( ((steve_maps[0] - zack_maps[0])[yval,1000:3200]), label='diff' )\n",
    "axes[0].plot( ((steve_maps[0])[yval,1000:3200])/100, label='ps/100', alpha=0.2 )\n",
    "axes[0].legend()\n",
    "\n",
    "ymin, ymax = 700, 700+50\n",
    "xval = 3000\n",
    "axes[1].plot( (steve_maps[0] - zack_maps[0])[40:1400,xval] )\n",
    "axes[1].plot( (steve_maps[0])[40:1400,xval] /100, alpha=0.2)\n",
    "\n",
    "plt.tight_layout();"
   ]
  }
 ],
 "metadata": {
  "kernelspec": {
   "display_name": "Python 3 (ps)",
   "language": "python",
   "name": "ps"
  },
  "language_info": {
   "codemirror_mode": {
    "name": "ipython",
    "version": 3
   },
   "file_extension": ".py",
   "mimetype": "text/x-python",
   "name": "python",
   "nbconvert_exporter": "python",
   "pygments_lexer": "ipython3",
   "version": "3.7.3"
  }
 },
 "nbformat": 4,
 "nbformat_minor": 2
}
